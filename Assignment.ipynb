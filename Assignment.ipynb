{
 "cells": [
  {
   "cell_type": "markdown",
   "metadata": {},
   "source": [
    "Preparing the data"
   ]
  },
  {
   "cell_type": "code",
   "execution_count": 298,
   "metadata": {},
   "outputs": [],
   "source": [
    "import numpy as np\n",
    "import pandas as pd\n",
    "from scipy.stats import norm\n",
    "\n",
    "data = pd.read_csv(\"data425288.csv\")\n",
    "\n",
    "T = 25\n",
    "N = data.ID.max()\n",
    "\n",
    "y = np.log(data.Sales.values.reshape((N,T)))\n",
    "\n",
    "X = np.ones((T,2))\n",
    "X[:,1] = np.log(data.Price[:T])"
   ]
  },
  {
   "cell_type": "markdown",
   "metadata": {},
   "source": [
    "Log-likelihood evaluation"
   ]
  },
  {
   "cell_type": "code",
   "execution_count": 299,
   "metadata": {},
   "outputs": [],
   "source": [
    "def LogL(theta, pi, y, X):\n",
    "    mu = np.dot(X,theta.T) #(25, 3)\n",
    "    mu = np.repeat(mu[np.newaxis, :, :], N, axis=0)  #(500,25,K)\n",
    "    y = np.repeat(y[:, :, np.newaxis], K, axis=2)  #(500,25,K)\n",
    "    \n",
    "    #pdfs\n",
    "    probs = norm.pdf(y,mu,1) #(500,25,K)\n",
    "    \n",
    "    #prod^T probs\n",
    "    segments = np.prod(probs, axis=1) #(500,K)\n",
    "    \n",
    "    #sum^K pi_c prod^T probs\n",
    "    combined = np.dot(segments, pi) #(500,)\n",
    "    \n",
    "    #sum^N log sum^K pi_c prod^T probs\n",
    "    LogL = np.log(combined).sum() #(1,)\n",
    "    return LogL"
   ]
  },
  {
   "cell_type": "markdown",
   "metadata": {},
   "source": [
    "Expectation step"
   ]
  },
  {
   "cell_type": "code",
   "execution_count": 454,
   "metadata": {},
   "outputs": [
    {
     "name": "stdout",
     "output_type": "stream",
     "text": [
      "(500, 3)\n",
      "[[-1375.0105342  -1375.0105342  -1375.0105342 ]\n",
      " [-1672.68915241 -1672.68915241 -1672.68915241]\n",
      " [-1363.24234988 -1363.24234988 -1363.24234988]\n",
      " ...\n",
      " [-1613.11765141 -1613.11765142 -1613.11765142]\n",
      " [-1315.51633398 -1315.51633398 -1315.51633398]\n",
      " [-1303.38790321 -1303.38790321 -1303.38790321]]\n",
      "[[7.39371533e+170 1.10905730e+171 1.84842883e+171]\n",
      " [3.87865773e+041 5.81798660e+041 9.69664433e+041]\n",
      " [9.54377603e+175 1.43156640e+176 2.38594401e+176]\n",
      " ...\n",
      " [2.88572949e+067 4.32859423e+067 7.21432372e+067]\n",
      " [5.09173257e+196 7.63759886e+196 1.27293314e+197]\n",
      " [9.42271690e+201 1.41340753e+202 2.35567922e+202]]\n"
     ]
    },
    {
     "data": {
      "text/plain": [
       "(500, 3)"
      ]
     },
     "metadata": {},
     "output_type": "display_data"
    },
    {
     "data": {
      "text/plain": [
       "array([[0.2, 0.3, 0.5],\n",
       "       [0.2, 0.3, 0.5],\n",
       "       [0.2, 0.3, 0.5],\n",
       "       ...,\n",
       "       [0.2, 0.3, 0.5],\n",
       "       [0.2, 0.3, 0.5],\n",
       "       [0.2, 0.3, 0.5]])"
      ]
     },
     "metadata": {},
     "output_type": "display_data"
    }
   ],
   "source": [
    "def EStep(theta,pi,y,X):\n",
    "    mu = np.dot(X,theta.T) #(25, K)\n",
    "    mu = np.repeat(mu[np.newaxis, :, :], N, axis=0)  #(500,25,K)\n",
    "    y = np.repeat(y[:, :, np.newaxis], K, axis=2)  #(500,25,K)\n",
    "\n",
    "    #pdfs\n",
    "    probs = norm.pdf(y,mu,1) #(500,25,K)\n",
    "    \n",
    "    #prod^T probs\n",
    "    segments = np.log(probs).sum(axis=1)\n",
    "#     segments = np.prod(probs, axis=1) #(500,K)\n",
    "    print(segments.shape)\n",
    "    print(segments)\n",
    "    \n",
    "    # prod^T probs times diagonal of pi\n",
    "#     numerators = np.dot(segments, np.diag(pi))\n",
    "    numerators = np.exp(segments + np.log(pi) - segments.min())\n",
    "\n",
    "    print(numerators)\n",
    "    \n",
    "    \n",
    "    #divide numeratats by denominators (= sum of row)\n",
    "    W = numerators / numerators.sum(axis=1, keepdims=True)\n",
    "    \n",
    "    return W\n",
    "\n",
    "W = EStep(theta, pi, y, X)\n",
    "display(W.shape)\n",
    "display(W)"
   ]
  },
  {
   "cell_type": "markdown",
   "metadata": {},
   "source": [
    "Maximization step"
   ]
  },
  {
   "cell_type": "code",
   "execution_count": 453,
   "metadata": {},
   "outputs": [
    {
     "data": {
      "text/plain": [
       "array([0.2, 0.3, 0.5])"
      ]
     },
     "metadata": {},
     "output_type": "display_data"
    },
    {
     "data": {
      "text/plain": [
       "array([[9.32891466, 9.42045641],\n",
       "       [9.32891466, 9.42045641],\n",
       "       [9.32891466, 9.42045641]])"
      ]
     },
     "metadata": {},
     "output_type": "display_data"
    },
    {
     "data": {
      "text/plain": [
       "(3, 2)"
      ]
     },
     "metadata": {},
     "output_type": "display_data"
    }
   ],
   "source": [
    "def MStep(W,y,X):\n",
    "    # 1/N sum^N w_ic\n",
    "    pi = W.mean(axis=0) #(K,)\n",
    "    \n",
    "    # sum^N w_ic sum^T log S_it\n",
    "    numerator = np.dot(y.sum(axis=1), W) #(K,)\n",
    "    \n",
    "    #  / T * sum^N w_ic\n",
    "    alpha = numerator / (T * W.sum(axis=0))\n",
    "    \n",
    "    # / sum^N w_ic * sum^T log p_t (scalar)\n",
    "    beta =  numerator /  (W.sum(axis=0) * X[:,1].sum())\n",
    "    \n",
    "    # [a', b']\n",
    "    theta = np.stack((alpha, beta), axis=-1)\n",
    "    \n",
    "    return theta, pi\n",
    "    \n",
    "theta, pi = MStep(W,y,X)\n",
    "\n",
    "# theta[:,1] = -theta[:,1] \n",
    "# theta = theta /12\n",
    "display(pi)    \n",
    "\n",
    "display(theta)    \n",
    "display(theta.shape)\n",
    "# print(X)\n",
    "\n",
    "\n"
   ]
  },
  {
   "cell_type": "markdown",
   "metadata": {},
   "source": [
    "EM algorithm"
   ]
  },
  {
   "cell_type": "code",
   "execution_count": 450,
   "metadata": {},
   "outputs": [
    {
     "name": "stdout",
     "output_type": "stream",
     "text": [
      "[[0.2 0.3 0.5]\n",
      " [0.2 0.3 0.5]\n",
      " [0.2 0.3 0.5]\n",
      " ...\n",
      " [0.2 0.3 0.5]\n",
      " [0.2 0.3 0.5]\n",
      " [0.2 0.3 0.5]]\n"
     ]
    }
   ],
   "source": [
    "#test params\n",
    "K = 3\n",
    "\n",
    "# np.random.seed(1234)\n",
    "# alpha = np.random.rand(K) * 3 + 3\n",
    "# beta = np.random.rand(K) - 1\n",
    "# theta = np.stack((alpha, beta), axis=-1)\n",
    "\n",
    "W = np.ones((N,K))\n",
    "W[:,0] = 0.2\n",
    "W[:,1] = 0.3\n",
    "W[:,2] = 0.5\n",
    "\n",
    "    \n",
    "print(W)\n"
   ]
  },
  {
   "cell_type": "code",
   "execution_count": 404,
   "metadata": {},
   "outputs": [
    {
     "name": "stderr",
     "output_type": "stream",
     "text": [
      "C:\\Users\\Tim\\Anaconda3\\lib\\site-packages\\ipykernel_launcher.py:16: RuntimeWarning: divide by zero encountered in log\n",
      "  app.launch_new_instance()\n"
     ]
    },
    {
     "data": {
      "text/plain": [
       "()"
      ]
     },
     "metadata": {},
     "output_type": "display_data"
    },
    {
     "data": {
      "text/plain": [
       "-inf"
      ]
     },
     "metadata": {},
     "output_type": "display_data"
    }
   ],
   "source": [
    "likelihood = LogL(theta, pi, y, X)\n",
    "display(likelihood.shape)\n",
    "display(likelihood)"
   ]
  },
  {
   "cell_type": "code",
   "execution_count": null,
   "metadata": {},
   "outputs": [],
   "source": [
    "def EM(K,y,X):\n",
    "    \n",
    "    "
   ]
  },
  {
   "cell_type": "markdown",
   "metadata": {},
   "source": [
    "Estimation implementation"
   ]
  },
  {
   "cell_type": "code",
   "execution_count": null,
   "metadata": {},
   "outputs": [],
   "source": [
    "def Estimate(K, X=X, y=y, seed=1234):"
   ]
  }
 ],
 "metadata": {
  "kernelspec": {
   "display_name": "Python 3",
   "language": "python",
   "name": "python3"
  },
  "language_info": {
   "codemirror_mode": {
    "name": "ipython",
    "version": 3
   },
   "file_extension": ".py",
   "mimetype": "text/x-python",
   "name": "python",
   "nbconvert_exporter": "python",
   "pygments_lexer": "ipython3",
   "version": "3.6.9"
  }
 },
 "nbformat": 4,
 "nbformat_minor": 4
}
