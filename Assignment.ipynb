{
 "cells": [
  {
   "cell_type": "markdown",
   "metadata": {},
   "source": [
    "Preparing the data"
   ]
  },
  {
   "cell_type": "code",
   "execution_count": 101,
   "metadata": {},
   "outputs": [],
   "source": [
    "import numpy as np\n",
    "import pandas as pd\n",
    "data = pd.read_csv(\"data425288.csv\")\n",
    "\n",
    "T = 25\n",
    "N = data.ID.max()\n",
    "\n",
    "y = np.log(data.Sales.values.reshape((N,T)))\n",
    "\n",
    "X = np.ones((T,2))\n",
    "X[:,1] = np.log(data.Price[:T])"
   ]
  },
  {
   "cell_type": "code",
   "execution_count": 236,
   "metadata": {},
   "outputs": [
    {
     "name": "stderr",
     "output_type": "stream",
     "text": [
      "C:\\Users\\Tim\\Anaconda3\\lib\\site-packages\\ipykernel_launcher.py:18: RuntimeWarning: divide by zero encountered in log\n"
     ]
    },
    {
     "data": {
      "text/plain": [
       "()"
      ]
     },
     "metadata": {},
     "output_type": "display_data"
    },
    {
     "data": {
      "text/plain": [
       "-inf"
      ]
     },
     "metadata": {},
     "output_type": "display_data"
    }
   ],
   "source": [
    "#test params\n",
    "K = 3\n",
    "\n",
    "theta = np.random.rand(K,2) \n",
    "pi = np.ones(K)/K\n",
    "\n",
    "    \n",
    "likelihood = LogL(theta, pi, y, X)\n",
    "display(likelihood.shape)\n",
    "display(likelihood)"
   ]
  },
  {
   "cell_type": "markdown",
   "metadata": {},
   "source": [
    "Log-likelihood evaluation"
   ]
  },
  {
   "cell_type": "code",
   "execution_count": 215,
   "metadata": {},
   "outputs": [],
   "source": [
    "from scipy.stats import norm\n",
    "\n",
    "def LogL(theta, pi, y, X):\n",
    "    mu = np.dot(X,theta.T)\n",
    "    mu = np.repeat(mu[np.newaxis, :, :], N, axis=0)  #(500,25,3)\n",
    "    y = np.repeat(y[:, :, np.newaxis], K, axis=2)  #(500,25,3)\n",
    "    \n",
    "    #pdfs\n",
    "    probs = norm.pdf(y,mu,1) #(500,25,3)\n",
    "    \n",
    "    #prod^T probs\n",
    "    segments = np.prod(probs, axis=1) #(500,3)\n",
    "    \n",
    "    #sum^K pi_c prod^T probs\n",
    "    combined = np.dot(segments, pi) #(500,)\n",
    "    \n",
    "    #sum^N log sum^K pi_c prod^T probs\n",
    "    LogL = np.log(combined).sum() #(1,)\n",
    "    return LogL"
   ]
  },
  {
   "cell_type": "markdown",
   "metadata": {},
   "source": [
    "Expectation step"
   ]
  },
  {
   "cell_type": "code",
   "execution_count": null,
   "metadata": {},
   "outputs": [],
   "source": [
    "def EStep(theta,pi,y,X):\n",
    "    "
   ]
  },
  {
   "cell_type": "markdown",
   "metadata": {},
   "source": [
    "Maximization step"
   ]
  },
  {
   "cell_type": "code",
   "execution_count": null,
   "metadata": {},
   "outputs": [],
   "source": [
    "def MStep(W,y,X):"
   ]
  },
  {
   "cell_type": "markdown",
   "metadata": {},
   "source": [
    "EM algorithm"
   ]
  },
  {
   "cell_type": "code",
   "execution_count": null,
   "metadata": {},
   "outputs": [],
   "source": [
    "def EM(K,y,X):"
   ]
  },
  {
   "cell_type": "markdown",
   "metadata": {},
   "source": [
    "Estimation implementation"
   ]
  },
  {
   "cell_type": "code",
   "execution_count": null,
   "metadata": {},
   "outputs": [],
   "source": [
    "def Estimate(K, X=X, y=y, seed=1234):"
   ]
  }
 ],
 "metadata": {
  "kernelspec": {
   "display_name": "Python 3",
   "language": "python",
   "name": "python3"
  },
  "language_info": {
   "codemirror_mode": {
    "name": "ipython",
    "version": 3
   },
   "file_extension": ".py",
   "mimetype": "text/x-python",
   "name": "python",
   "nbconvert_exporter": "python",
   "pygments_lexer": "ipython3",
   "version": "3.6.9"
  }
 },
 "nbformat": 4,
 "nbformat_minor": 4
}
