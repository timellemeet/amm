{
 "cells": [
  {
   "cell_type": "markdown",
   "metadata": {},
   "source": [
    "Preparing the data"
   ]
  },
  {
   "cell_type": "code",
   "execution_count": 101,
   "metadata": {},
   "outputs": [],
   "source": [
    "import numpy as np\n",
    "import pandas as pd\n",
    "data = pd.read_csv(\"data425288.csv\")\n",
    "\n",
    "T = 25\n",
    "N = data.ID.max()\n",
    "\n",
    "y = np.log(data.Sales.values.reshape((N,T)))\n",
    "\n",
    "X = np.ones((T,2))\n",
    "X[:,1] = np.log(data.Price[:T])"
   ]
  },
  {
   "cell_type": "code",
   "execution_count": 123,
   "metadata": {},
   "outputs": [],
   "source": [
    "#test params\n",
    "K = 3\n",
    "\n",
    "theta = np.random.rand(K,2) \n",
    "pi = np.ones(K)/K"
   ]
  },
  {
   "cell_type": "markdown",
   "metadata": {},
   "source": [
    "Log-likelihood evaluation"
   ]
  },
  {
   "cell_type": "code",
   "execution_count": 201,
   "metadata": {},
   "outputs": [
    {
     "name": "stderr",
     "output_type": "stream",
     "text": [
      "C:\\Users\\Tim\\Anaconda3\\lib\\site-packages\\ipykernel_launcher.py:14: RuntimeWarning: divide by zero encountered in log\n",
      "  \n"
     ]
    },
    {
     "data": {
      "text/plain": [
       "()"
      ]
     },
     "metadata": {},
     "output_type": "display_data"
    },
    {
     "data": {
      "text/plain": [
       "-inf"
      ]
     },
     "metadata": {},
     "output_type": "display_data"
    }
   ],
   "source": [
    "from scipy.stats import norm\n",
    "\n",
    "def LogL(theta, pi, y, X):\n",
    "    mu = np.dot(X,theta.T)\n",
    "    mu = np.repeat(mu[np.newaxis, :, :], N, axis=0)  #(500,25,3)\n",
    "    y = np.repeat(y[:, :, np.newaxis], K, axis=2)  #(500,25,3)\n",
    "    \n",
    "    #pdfs\n",
    "    probs = norm.pdf(y,mu,1) #(500,25,3)\n",
    "    \n",
    "    #prod^T probs\n",
    "    segments = np.prod(probs, axis=1) #(500,3)\n",
    "    \n",
    "    #sum^K pi_c prod^T probs\n",
    "    combined = np.dot(segments, pi) #(500,)\n",
    "    \n",
    "    #sum^N log sum^K pi_c prod^T probs\n",
    "    LogL = np.log(combined).sum() #(1,)\n",
    "    return LogL\n",
    "    \n",
    "# likelihood = LogL(theta, pi, y, X)\n",
    "# display(likelihood.shape)\n",
    "# display(likelihood)"
   ]
  },
  {
   "cell_type": "code",
   "execution_count": 194,
   "metadata": {},
   "outputs": [
    {
     "name": "stdout",
     "output_type": "stream",
     "text": [
      "[[[4 5 5]\n",
      "  [1 2 2]\n",
      "  [2 3 4]\n",
      "  [5 5 3]\n",
      "  [3 1 1]\n",
      "  [5 1 2]\n",
      "  [3 1 4]\n",
      "  [5 3 3]\n",
      "  [4 4 1]\n",
      "  [2 4 1]\n",
      "  [4 3 4]\n",
      "  [5 2 4]\n",
      "  [4 4 3]\n",
      "  [2 4 5]\n",
      "  [3 4 5]\n",
      "  [2 5 1]\n",
      "  [5 2 2]\n",
      "  [5 2 5]\n",
      "  [1 2 1]\n",
      "  [1 5 1]]\n",
      "\n",
      " [[5 3 4]\n",
      "  [2 3 3]\n",
      "  [5 4 5]\n",
      "  [3 3 5]\n",
      "  [5 3 2]\n",
      "  [4 3 2]\n",
      "  [5 2 1]\n",
      "  [2 3 2]\n",
      "  [3 2 3]\n",
      "  [2 2 5]\n",
      "  [2 3 5]\n",
      "  [1 5 2]\n",
      "  [3 2 2]\n",
      "  [4 5 2]\n",
      "  [4 3 1]\n",
      "  [5 4 5]\n",
      "  [1 1 5]\n",
      "  [1 5 2]\n",
      "  [1 2 1]\n",
      "  [3 1 4]]\n",
      "\n",
      " [[3 3 4]\n",
      "  [3 2 5]\n",
      "  [1 2 2]\n",
      "  [3 3 5]\n",
      "  [4 3 5]\n",
      "  [2 1 1]\n",
      "  [4 5 1]\n",
      "  [1 2 1]\n",
      "  [4 2 2]\n",
      "  [2 4 4]\n",
      "  [2 4 5]\n",
      "  [5 5 2]\n",
      "  [4 2 3]\n",
      "  [2 1 1]\n",
      "  [5 5 1]\n",
      "  [1 2 4]\n",
      "  [2 5 2]\n",
      "  [4 3 4]\n",
      "  [3 3 1]\n",
      "  [2 2 4]]\n",
      "\n",
      " [[4 5 4]\n",
      "  [3 5 3]\n",
      "  [2 4 3]\n",
      "  [1 2 2]\n",
      "  [4 5 4]\n",
      "  [5 3 4]\n",
      "  [2 1 1]\n",
      "  [1 2 3]\n",
      "  [4 2 5]\n",
      "  [4 2 1]\n",
      "  [2 5 3]\n",
      "  [4 2 3]\n",
      "  [2 5 4]\n",
      "  [1 5 4]\n",
      "  [5 1 1]\n",
      "  [1 2 4]\n",
      "  [5 1 2]\n",
      "  [2 1 5]\n",
      "  [2 2 2]\n",
      "  [3 4 5]]\n",
      "\n",
      " [[3 4 2]\n",
      "  [2 5 1]\n",
      "  [1 3 2]\n",
      "  [5 3 4]\n",
      "  [3 2 1]\n",
      "  [1 3 1]\n",
      "  [1 2 2]\n",
      "  [5 4 3]\n",
      "  [1 1 3]\n",
      "  [1 5 1]\n",
      "  [4 3 5]\n",
      "  [5 3 4]\n",
      "  [5 3 1]\n",
      "  [3 2 2]\n",
      "  [1 1 1]\n",
      "  [2 5 3]\n",
      "  [2 2 5]\n",
      "  [2 2 3]\n",
      "  [5 4 2]\n",
      "  [1 4 3]]]\n",
      "[[1728000000  552960000   34560000]\n",
      " [ 259200000  419904000  288000000]\n",
      " [ 132710400  311040000   30720000]\n",
      " [  73728000   96000000  995328000]\n",
      " [   5400000  746496000    3110400]]\n"
     ]
    },
    {
     "data": {
      "text/plain": [
       "array([7.718400e+08, 3.223680e+08, 1.581568e+08, 3.883520e+08,\n",
       "       2.516688e+08])"
      ]
     },
     "execution_count": 194,
     "metadata": {},
     "output_type": "execute_result"
    }
   ],
   "source": [
    "np.random.seed(1234)\n",
    "matrix = np.random.randint(1,6,(5,20,3))\n",
    "print(matrix)\n",
    "\n",
    "prod = np.prod(matrix, axis=1)\n",
    "print(prod)\n",
    "\n",
    "np.dot(prod, pi)"
   ]
  }
 ],
 "metadata": {
  "kernelspec": {
   "display_name": "Python 3",
   "language": "python",
   "name": "python3"
  },
  "language_info": {
   "codemirror_mode": {
    "name": "ipython",
    "version": 3
   },
   "file_extension": ".py",
   "mimetype": "text/x-python",
   "name": "python",
   "nbconvert_exporter": "python",
   "pygments_lexer": "ipython3",
   "version": "3.6.9"
  }
 },
 "nbformat": 4,
 "nbformat_minor": 4
}
