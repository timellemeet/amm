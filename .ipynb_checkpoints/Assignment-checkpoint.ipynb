{
 "cells": [
  {
   "cell_type": "markdown",
   "metadata": {},
   "source": [
    "Preparing the data"
   ]
  },
  {
   "cell_type": "code",
   "execution_count": 1,
   "metadata": {},
   "outputs": [],
   "source": [
    "import numpy as np\n",
    "import pandas as pd\n",
    "from scipy.stats import norm\n",
    "\n",
    "data = pd.read_csv(\"data425288.csv\")\n",
    "\n",
    "T = 25\n",
    "N = data.ID.max()\n",
    "\n",
    "y = np.log(data.Sales.values.reshape((N,T)))\n",
    "\n",
    "X = np.ones((T,2))\n",
    "X[:,1] = np.log(data.Price[:T])"
   ]
  },
  {
   "cell_type": "markdown",
   "metadata": {},
   "source": [
    "OLS for reference"
   ]
  },
  {
   "cell_type": "code",
   "execution_count": 2,
   "metadata": {},
   "outputs": [
    {
     "data": {
      "text/html": [
       "<table class=\"simpletable\">\n",
       "<caption>OLS Regression Results</caption>\n",
       "<tr>\n",
       "  <th>Dep. Variable:</th>          <td>logS</td>       <th>  R-squared:         </th> <td>   0.261</td> \n",
       "</tr>\n",
       "<tr>\n",
       "  <th>Model:</th>                   <td>OLS</td>       <th>  Adj. R-squared:    </th> <td>   0.261</td> \n",
       "</tr>\n",
       "<tr>\n",
       "  <th>Method:</th>             <td>Least Squares</td>  <th>  F-statistic:       </th> <td>   4408.</td> \n",
       "</tr>\n",
       "<tr>\n",
       "  <th>Date:</th>             <td>Mon, 09 Dec 2019</td> <th>  Prob (F-statistic):</th>  <td>  0.00</td>  \n",
       "</tr>\n",
       "<tr>\n",
       "  <th>Time:</th>                 <td>17:19:31</td>     <th>  Log-Likelihood:    </th> <td> -19197.</td> \n",
       "</tr>\n",
       "<tr>\n",
       "  <th>No. Observations:</th>      <td> 12500</td>      <th>  AIC:               </th> <td>3.840e+04</td>\n",
       "</tr>\n",
       "<tr>\n",
       "  <th>Df Residuals:</th>          <td> 12498</td>      <th>  BIC:               </th> <td>3.841e+04</td>\n",
       "</tr>\n",
       "<tr>\n",
       "  <th>Df Model:</th>              <td>     1</td>      <th>                     </th>     <td> </td>    \n",
       "</tr>\n",
       "<tr>\n",
       "  <th>Covariance Type:</th>      <td>nonrobust</td>    <th>                     </th>     <td> </td>    \n",
       "</tr>\n",
       "</table>\n",
       "<table class=\"simpletable\">\n",
       "<tr>\n",
       "      <td></td>         <th>coef</th>     <th>std err</th>      <th>t</th>      <th>P>|t|</th>  <th>[0.025</th>    <th>0.975]</th>  \n",
       "</tr>\n",
       "<tr>\n",
       "  <th>Intercept</th> <td>   10.7127</td> <td>    0.023</td> <td>  462.944</td> <td> 0.000</td> <td>   10.667</td> <td>   10.758</td>\n",
       "</tr>\n",
       "<tr>\n",
       "  <th>logP</th>      <td>   -1.3974</td> <td>    0.021</td> <td>  -66.393</td> <td> 0.000</td> <td>   -1.439</td> <td>   -1.356</td>\n",
       "</tr>\n",
       "</table>\n",
       "<table class=\"simpletable\">\n",
       "<tr>\n",
       "  <th>Omnibus:</th>       <td> 1.098</td> <th>  Durbin-Watson:     </th> <td>   1.596</td>\n",
       "</tr>\n",
       "<tr>\n",
       "  <th>Prob(Omnibus):</th> <td> 0.577</td> <th>  Jarque-Bera (JB):  </th> <td>   1.113</td>\n",
       "</tr>\n",
       "<tr>\n",
       "  <th>Skew:</th>          <td>-0.002</td> <th>  Prob(JB):          </th> <td>   0.573</td>\n",
       "</tr>\n",
       "<tr>\n",
       "  <th>Kurtosis:</th>      <td> 2.954</td> <th>  Cond. No.          </th> <td>    4.40</td>\n",
       "</tr>\n",
       "</table><br/><br/>Warnings:<br/>[1] Standard Errors assume that the covariance matrix of the errors is correctly specified."
      ],
      "text/plain": [
       "<class 'statsmodels.iolib.summary.Summary'>\n",
       "\"\"\"\n",
       "                            OLS Regression Results                            \n",
       "==============================================================================\n",
       "Dep. Variable:                   logS   R-squared:                       0.261\n",
       "Model:                            OLS   Adj. R-squared:                  0.261\n",
       "Method:                 Least Squares   F-statistic:                     4408.\n",
       "Date:                Mon, 09 Dec 2019   Prob (F-statistic):               0.00\n",
       "Time:                        17:19:31   Log-Likelihood:                -19197.\n",
       "No. Observations:               12500   AIC:                         3.840e+04\n",
       "Df Residuals:                   12498   BIC:                         3.841e+04\n",
       "Df Model:                           1                                         \n",
       "Covariance Type:            nonrobust                                         \n",
       "==============================================================================\n",
       "                 coef    std err          t      P>|t|      [0.025      0.975]\n",
       "------------------------------------------------------------------------------\n",
       "Intercept     10.7127      0.023    462.944      0.000      10.667      10.758\n",
       "logP          -1.3974      0.021    -66.393      0.000      -1.439      -1.356\n",
       "==============================================================================\n",
       "Omnibus:                        1.098   Durbin-Watson:                   1.596\n",
       "Prob(Omnibus):                  0.577   Jarque-Bera (JB):                1.113\n",
       "Skew:                          -0.002   Prob(JB):                        0.573\n",
       "Kurtosis:                       2.954   Cond. No.                         4.40\n",
       "==============================================================================\n",
       "\n",
       "Warnings:\n",
       "[1] Standard Errors assume that the covariance matrix of the errors is correctly specified.\n",
       "\"\"\""
      ]
     },
     "metadata": {},
     "output_type": "display_data"
    }
   ],
   "source": [
    "import statsmodels.formula.api as sm\n",
    "\n",
    "regdata = data.copy()\n",
    "regdata[\"logS\"] = np.log(regdata.Sales)\n",
    "regdata[\"logP\"] = np.log(regdata.Price)\n",
    "result = sm.ols(formula=\"logS ~ logP\", data=regdata).fit()\n",
    "display(result.summary())"
   ]
  },
  {
   "cell_type": "markdown",
   "metadata": {},
   "source": [
    "Log-likelihood evaluation"
   ]
  },
  {
   "cell_type": "code",
   "execution_count": 3,
   "metadata": {},
   "outputs": [],
   "source": [
    "def LogL(theta, pi, y, X):\n",
    "    mu = np.dot(X,theta.T) #(25, 3)\n",
    "    mu = np.repeat(mu[np.newaxis, :, :], N, axis=0)  #(500,25,K)\n",
    "    y = np.repeat(y[:, :, np.newaxis], K, axis=2)  #(500,25,K)\n",
    "    \n",
    "    #pdfs\n",
    "    probs = norm.pdf(y,mu,1) #(500,25,K)\n",
    "    \n",
    "    #prod^T probs\n",
    "    segments = np.prod(probs, axis=1) #(500,K)\n",
    "    \n",
    "    #sum^K pi_c prod^T probs\n",
    "    combined = np.dot(segments, pi) #(500,)\n",
    "    \n",
    "    #sum^N log sum^K pi_c prod^T probs\n",
    "    LogL = np.log(combined).sum() #(1,)\n",
    "    return LogL"
   ]
  },
  {
   "cell_type": "markdown",
   "metadata": {},
   "source": [
    "Expectation step"
   ]
  },
  {
   "cell_type": "code",
   "execution_count": 4,
   "metadata": {},
   "outputs": [],
   "source": [
    "def EStep(theta,pi,y,X, robust = True):\n",
    "    mu = np.dot(X,theta.T) #(25, K)\n",
    "    mu = np.repeat(mu[np.newaxis, :, :], N, axis=0)  #(500,25,K)\n",
    "    y = np.repeat(y[:, :, np.newaxis], K, axis=2)  #(500,25,K)\n",
    "\n",
    "    #pdfs\n",
    "    probs = norm.pdf(y,mu,1) #(500,25,K)\n",
    "\n",
    "    #if to be calcluted by exp(log()) to prevent underflow\n",
    "    if robust:\n",
    "        #prod^T probs as sum^T log p_t to prevent small numbers\n",
    "        segments = np.log(probs).sum(axis=1)\n",
    "        \n",
    "        # prod^T probs times diagonal of pi as exp(sum^T log p_t + log pi_c - most negative number)\n",
    "        numerators = np.exp(segments + np.log(pi) - segments.min())    \n",
    "    \n",
    "    #using the direct definition\n",
    "    else:\n",
    "        #prod^T probs\n",
    "        segments = np.prod(probs, axis=1) #(500,K)\n",
    "        \n",
    "        # prod^T probs times diagonal of pi\n",
    "        numerators = np.dot(segments, np.diag(pi))\n",
    "    \n",
    "    #divide numerators by denominators (= sum of row)\n",
    "    W = numerators / numerators.sum(axis=1, keepdims=True)\n",
    "\n",
    "    return W"
   ]
  },
  {
   "cell_type": "markdown",
   "metadata": {},
   "source": [
    "Maximization step"
   ]
  },
  {
   "cell_type": "code",
   "execution_count": 33,
   "metadata": {},
   "outputs": [],
   "source": [
    "def MStep(W,y,X):\n",
    "    # 1/N sum^N w_ic\n",
    "    pi = W.mean(axis=0) #(K,)\n",
    "    \n",
    "    theta = np.zeros((K,2))\n",
    "    \n",
    "    for c in range(K):        \n",
    "        inv = np.zeros((2,2))\n",
    "        for i in range(N):\n",
    "            inv += W[i,c] * np.dot(X.T, X) \n",
    "        \n",
    "        inv  =  np.linalg.inv(inv)\n",
    "        \n",
    "        theta[c,:] = np.linalg.multi_dot([inv,X.T,y.T, W[:,c]])\n",
    "    \n",
    "    return theta, pi"
   ]
  },
  {
   "cell_type": "markdown",
   "metadata": {},
   "source": [
    "EM algorithm"
   ]
  },
  {
   "cell_type": "code",
   "execution_count": null,
   "metadata": {},
   "outputs": [],
   "source": [
    "def EM(K,y,X,tolerance=0.0001, verbose=0):\n",
    "    #W initialized randomly\n",
    "    W = np.random.rand(N,K)\n",
    "    W = W/W.sum(axis=1, keepdims=True)\n",
    "    theta = None\n",
    "    pi = None\n",
    "    \n",
    "    while True:\n",
    "        print(K)\n",
    "    \n",
    "\n",
    "    \n",
    "EM(2,y,X)"
   ]
  },
  {
   "cell_type": "markdown",
   "metadata": {},
   "source": [
    "Estimation implementation"
   ]
  },
  {
   "cell_type": "code",
   "execution_count": null,
   "metadata": {},
   "outputs": [],
   "source": [
    "def Estimate(K, X=X, y=y, seed=1234):"
   ]
  }
 ],
 "metadata": {
  "kernelspec": {
   "display_name": "Python 3",
   "language": "python",
   "name": "python3"
  },
  "language_info": {
   "codemirror_mode": {
    "name": "ipython",
    "version": 3
   },
   "file_extension": ".py",
   "mimetype": "text/x-python",
   "name": "python",
   "nbconvert_exporter": "python",
   "pygments_lexer": "ipython3",
   "version": "3.6.9"
  }
 },
 "nbformat": 4,
 "nbformat_minor": 4
}
