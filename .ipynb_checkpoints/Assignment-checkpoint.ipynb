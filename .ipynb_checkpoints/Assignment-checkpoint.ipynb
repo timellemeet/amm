{
 "cells": [
  {
   "cell_type": "markdown",
   "metadata": {},
   "source": [
    "Preparing the data"
   ]
  },
  {
   "cell_type": "code",
   "execution_count": 1,
   "metadata": {},
   "outputs": [],
   "source": [
    "import numpy as np\n",
    "import pandas as pd\n",
    "from scipy.stats import norm\n",
    "\n",
    "data = pd.read_csv(\"data425288.csv\")\n",
    "\n",
    "T = 25\n",
    "N = data.ID.max()\n",
    "\n",
    "y = np.log(data.Sales.values.reshape((N,T)))\n",
    "\n",
    "X = np.ones((T,2))\n",
    "X[:,1] = np.log(data.Price[:T])"
   ]
  },
  {
   "cell_type": "markdown",
   "metadata": {},
   "source": [
    "Log-likelihood evaluation"
   ]
  },
  {
   "cell_type": "code",
   "execution_count": 282,
   "metadata": {},
   "outputs": [],
   "source": [
    "def LogL(theta, pi, y, X):\n",
    "    mu = np.dot(X,theta.T) #(25, 3)\n",
    "    mu = np.repeat(mu[np.newaxis, :, :], N, axis=0)  #(500,25,K)\n",
    "    y = np.repeat(y[:, :, np.newaxis], K, axis=2)  #(500,25,K)\n",
    "    \n",
    "    #pdfs\n",
    "    probs = norm.pdf(y,mu,1) #(500,25,K)\n",
    "    \n",
    "    #prod^T probs\n",
    "    segments = np.prod(probs, axis=1) #(500,K)\n",
    "    \n",
    "    #sum^K pi_c prod^T probs\n",
    "    combined = np.dot(segments, pi) #(500,)\n",
    "    \n",
    "    #sum^N log sum^K pi_c prod^T probs\n",
    "    LogL = np.log(combined).sum() #(1,)\n",
    "    return LogL"
   ]
  },
  {
   "cell_type": "markdown",
   "metadata": {},
   "source": [
    "Expectation step"
   ]
  },
  {
   "cell_type": "code",
   "execution_count": 296,
   "metadata": {},
   "outputs": [
    {
     "name": "stderr",
     "output_type": "stream",
     "text": [
      "C:\\Users\\Tim\\Anaconda3\\lib\\site-packages\\ipykernel_launcher.py:16: RuntimeWarning: invalid value encountered in true_divide\n",
      "  app.launch_new_instance()\n"
     ]
    },
    {
     "data": {
      "text/plain": [
       "(500, 3)"
      ]
     },
     "metadata": {},
     "output_type": "display_data"
    },
    {
     "data": {
      "text/plain": [
       "array([[nan, nan, nan],\n",
       "       [nan, nan, nan],\n",
       "       [nan, nan, nan],\n",
       "       ...,\n",
       "       [nan, nan, nan],\n",
       "       [nan, nan, nan],\n",
       "       [nan, nan, nan]])"
      ]
     },
     "metadata": {},
     "output_type": "display_data"
    }
   ],
   "source": [
    "def EStep(theta,pi,y,X):\n",
    "    mu = np.dot(X,theta.T) #(25, K)\n",
    "    mu = np.repeat(mu[np.newaxis, :, :], N, axis=0)  #(500,25,K)\n",
    "    y = np.repeat(y[:, :, np.newaxis], K, axis=2)  #(500,25,K)\n",
    "\n",
    "    #pdfs\n",
    "    probs = norm.pdf(y,mu,1) #(500,25,K)\n",
    "    \n",
    "    #prod^T probs\n",
    "    segments = np.prod(probs, axis=1) #(500,K)\n",
    "    \n",
    "    # prod^T probs times diagonal of pi\n",
    "    numerators = np.dot(segments, np.diag(pi))\n",
    "    \n",
    "    #divide numeratats by denominators (= sum of row)\n",
    "    W = numerators / numerators.sum(axis=1, keepdims=True)\n",
    "    \n",
    "    return W\n",
    "\n",
    "W = EStep(theta, pi, y, X)\n",
    "display(W.shape)\n",
    "display(W)"
   ]
  },
  {
   "cell_type": "markdown",
   "metadata": {},
   "source": [
    "Maximization step"
   ]
  },
  {
   "cell_type": "code",
   "execution_count": 291,
   "metadata": {},
   "outputs": [
    {
     "data": {
      "text/plain": [
       "array([1.28456541e-62, 1.00000000e+00, 1.41244539e-48])"
      ]
     },
     "metadata": {},
     "output_type": "display_data"
    },
    {
     "data": {
      "text/plain": [
       "array([[3.42025539e-118, 1.82517534e+002],\n",
       "       [2.33222867e+006, 2.08465800e+002],\n",
       "       [4.12633583e-090, 1.82076605e+002]])"
      ]
     },
     "metadata": {},
     "output_type": "display_data"
    }
   ],
   "source": [
    "def MStep(W,y,X):\n",
    "    # 1/N sum^N w_ic\n",
    "    pi = W.mean(axis=0) #(K,)\n",
    "    \n",
    "    # sum^N w_ic sum^T log S_it\n",
    "    numerator = np.dot(y.sum(axis=1), W) #(K,)\n",
    "    \n",
    "    #  / T * sum^N w_ic\n",
    "    alpha = numerator / T * W.sum(axis=0)\n",
    "    \n",
    "    # / sum^N w_ic * sum^T log p_t (scalar)\n",
    "    beta =  numerator /  W.sum(axis=0) - X[:,1].sum()\n",
    "    \n",
    "    # [a', b']\n",
    "    theta = np.stack((alpha, beta), axis=-1)\n",
    "    \n",
    "    return theta, pi\n",
    "    \n",
    "theta, pi = MStep(W,y,X)\n",
    "\n",
    "display(pi)    \n",
    "\n",
    "display(theta)    \n",
    "\n"
   ]
  },
  {
   "cell_type": "markdown",
   "metadata": {},
   "source": [
    "EM algorithm"
   ]
  },
  {
   "cell_type": "code",
   "execution_count": 297,
   "metadata": {},
   "outputs": [
    {
     "data": {
      "text/plain": [
       "()"
      ]
     },
     "metadata": {},
     "output_type": "display_data"
    },
    {
     "data": {
      "text/plain": [
       "-158825.53215931126"
      ]
     },
     "metadata": {},
     "output_type": "display_data"
    }
   ],
   "source": [
    "#test params\n",
    "K = 3\n",
    "\n",
    "np.random.seed(1234)\n",
    "alpha = np.random.rand(K) * 3 + 3\n",
    "beta = np.random.rand(K) - 1\n",
    "theta = np.stack((alpha, beta), axis=-1)\n",
    "\n",
    "pi = np.ones(K)/K\n",
    "\n",
    "    \n",
    "likelihood = LogL(theta, pi, y, X)\n",
    "display(likelihood.shape)\n",
    "display(likelihood)"
   ]
  },
  {
   "cell_type": "code",
   "execution_count": null,
   "metadata": {},
   "outputs": [],
   "source": [
    "def EM(K,y,X):\n",
    "    \n",
    "    "
   ]
  },
  {
   "cell_type": "markdown",
   "metadata": {},
   "source": [
    "Estimation implementation"
   ]
  },
  {
   "cell_type": "code",
   "execution_count": null,
   "metadata": {},
   "outputs": [],
   "source": [
    "def Estimate(K, X=X, y=y, seed=1234):"
   ]
  }
 ],
 "metadata": {
  "kernelspec": {
   "display_name": "Python 3",
   "language": "python",
   "name": "python3"
  },
  "language_info": {
   "codemirror_mode": {
    "name": "ipython",
    "version": 3
   },
   "file_extension": ".py",
   "mimetype": "text/x-python",
   "name": "python",
   "nbconvert_exporter": "python",
   "pygments_lexer": "ipython3",
   "version": "3.6.9"
  }
 },
 "nbformat": 4,
 "nbformat_minor": 4
}
